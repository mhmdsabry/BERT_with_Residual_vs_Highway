{
  "cells": [
    {
      "cell_type": "code",
      "execution_count": 1,
      "metadata": {
        "id": "LIoksrVZB8Qu"
      },
      "outputs": [],
      "source": [
        "%%capture\n",
        "!pip install -r /content/requirements.txt"
      ]
    },
    {
      "cell_type": "code",
      "execution_count": 2,
      "metadata": {
        "colab": {
          "base_uri": "https://localhost:8080/"
        },
        "id": "YWXv_rpelvE0",
        "outputId": "74447df9-75ba-4334-d556-5172d9c7160f"
      },
      "outputs": [
        {
          "output_type": "stream",
          "name": "stdout",
          "text": [
            "Sun Apr 10 11:40:58 2022       \n",
            "+-----------------------------------------------------------------------------+\n",
            "| NVIDIA-SMI 460.32.03    Driver Version: 460.32.03    CUDA Version: 11.2     |\n",
            "|-------------------------------+----------------------+----------------------+\n",
            "| GPU  Name        Persistence-M| Bus-Id        Disp.A | Volatile Uncorr. ECC |\n",
            "| Fan  Temp  Perf  Pwr:Usage/Cap|         Memory-Usage | GPU-Util  Compute M. |\n",
            "|                               |                      |               MIG M. |\n",
            "|===============================+======================+======================|\n",
            "|   0  Tesla K80           Off  | 00000000:00:04.0 Off |                    0 |\n",
            "| N/A   35C    P8    28W / 149W |      0MiB / 11441MiB |      0%      Default |\n",
            "|                               |                      |                  N/A |\n",
            "+-------------------------------+----------------------+----------------------+\n",
            "                                                                               \n",
            "+-----------------------------------------------------------------------------+\n",
            "| Processes:                                                                  |\n",
            "|  GPU   GI   CI        PID   Type   Process name                  GPU Memory |\n",
            "|        ID   ID                                                   Usage      |\n",
            "|=============================================================================|\n",
            "|  No running processes found                                                 |\n",
            "+-----------------------------------------------------------------------------+\n"
          ]
        }
      ],
      "source": [
        "!nvidia-smi"
      ]
    },
    {
      "cell_type": "code",
      "execution_count": 4,
      "metadata": {
        "colab": {
          "base_uri": "https://localhost:8080/"
        },
        "id": "7pbcjQUGCN78",
        "outputId": "ca13aa5d-73d9-4fbd-a90f-873b43fc82d3"
      },
      "outputs": [
        {
          "output_type": "stream",
          "name": "stdout",
          "text": [
            "04/10/2022 11:42:04 - INFO - numexpr.utils -   NumExpr defaulting to 2 threads.\n",
            "04/10/2022 11:42:07 - INFO - prepare_dataset -   data has 669237 characters, 65 unique.\n",
            "04/10/2022 11:42:07 - INFO - prepare_dataset -   data has 223079 characters, 66 unique.\n",
            "04/10/2022 11:42:08 - INFO - bert_model -   Number of parameters: 2.535328e+07\n",
            "/usr/local/lib/python3.7/dist-packages/torch/utils/data/dataloader.py:481: UserWarning: This DataLoader will create 8 worker processes in total. Our suggested max number of worker in current system is 2, which is smaller than what this DataLoader is going to create. Please be aware that excessive worker creation might get DataLoader running slow or even freeze, lower the worker number to avoid potential slowness/freeze if necessary.\n",
            "  cpuset_checked))\n",
            "04/10/2022 11:42:18 - INFO - trainer -   ==========Epoch:1/1==========\n",
            "04/10/2022 11:49:18 - INFO - trainer -   Itr:500, loss:3.158107042312622\n",
            "04/10/2022 11:56:17 - INFO - trainer -   Itr:1000, loss:3.160403251647949\n",
            "04/10/2022 12:03:17 - INFO - trainer -   Itr:1500, loss:3.3335280418395996\n",
            "04/10/2022 12:10:18 - INFO - trainer -   Itr:2000, loss:3.3430848121643066\n",
            "04/10/2022 12:17:17 - INFO - trainer -   Itr:2500, loss:3.2952210903167725\n",
            "04/10/2022 12:24:17 - INFO - trainer -   Itr:3000, loss:3.544125556945801\n",
            "04/10/2022 12:31:17 - INFO - trainer -   Itr:3500, loss:3.146559715270996\n",
            "04/10/2022 12:38:17 - INFO - trainer -   Itr:4000, loss:3.2125282287597656\n",
            "04/10/2022 12:45:18 - INFO - trainer -   Itr:4500, loss:3.116152763366699\n",
            "04/10/2022 12:52:18 - INFO - trainer -   Itr:5000, loss:3.5141236782073975\n",
            "04/10/2022 12:59:18 - INFO - trainer -   Itr:5500, loss:3.3509442806243896\n",
            "04/10/2022 13:06:18 - INFO - trainer -   Itr:6000, loss:3.4745395183563232\n",
            "04/10/2022 13:13:18 - INFO - trainer -   Itr:6500, loss:3.1953439712524414\n",
            "04/10/2022 13:20:18 - INFO - trainer -   Itr:7000, loss:3.1145448684692383\n",
            "04/10/2022 13:27:18 - INFO - trainer -   Itr:7500, loss:3.146270513534546\n",
            "04/10/2022 13:34:19 - INFO - trainer -   Itr:8000, loss:3.4336390495300293\n",
            "04/10/2022 13:41:19 - INFO - trainer -   Itr:8500, loss:3.131920576095581\n",
            "04/10/2022 13:48:18 - INFO - trainer -   Itr:9000, loss:3.3233330249786377\n",
            "04/10/2022 13:55:21 - INFO - trainer -   Itr:9500, loss:3.4616899490356445\n",
            "04/10/2022 14:02:26 - INFO - trainer -   Itr:10000, loss:3.2160799503326416\n",
            "04/10/2022 14:26:14 - INFO - trainer -   Saving at /content/drive/MyDrive/Bert_residual_vs_highway/resbert_8_8_512_128_train_batch64_warmup0.1_weightdecay0.01\n",
            "04/10/2022 14:26:15 - INFO - trainer -   Saving at /content/drive/MyDrive/Bert_residual_vs_highway/resbert_8_8_512_128_train_batch64_warmup0.1_weightdecay0.01\n",
            "04/10/2022 14:26:15 - INFO - __main__ -   Training time:9847396.0\n",
            "<Figure size 640x480 with 1 Axes>\n",
            "<Figure size 640x480 with 1 Axes>\n"
          ]
        }
      ],
      "source": [
        "!python main.py -c config.ini"
      ]
    },
    {
      "cell_type": "markdown",
      "metadata": {
        "id": "sCgwbRvjPg-k"
      },
      "source": [
        "###Model:\n",
        "BERT-like: 8 encoders with 8 attention heads, 512 hidden dimension, and 128 max tokens.\n",
        "\n",
        "###Residual BERT\n",
        "* num params: 2.535328e+07\n",
        "* Training time: 219m\n",
        "* best loss:\n",
        "\n",
        "###Highway BERT\n",
        "* num params: 2.955578e+07\n",
        "* Training time:\n",
        "* best loss: \n",
        "\n",
        "###Concluding Remarks\n",
        "\n",
        "###Future work:\n"
      ]
    }
  ],
  "metadata": {
    "accelerator": "GPU",
    "colab": {
      "collapsed_sections": [],
      "name": "BERT:Residual_vs_Highway.ipynb",
      "provenance": []
    },
    "kernelspec": {
      "display_name": "Python 3",
      "name": "python3"
    },
    "language_info": {
      "name": "python"
    }
  },
  "nbformat": 4,
  "nbformat_minor": 0
}